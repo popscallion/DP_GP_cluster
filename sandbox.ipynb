{
 "cells": [
  {
   "cell_type": "code",
   "execution_count": 2,
   "metadata": {},
   "outputs": [],
   "source": [
    "import pandas as pd\n",
    "import numpy as np\n",
    "dfTest = pd.read_csv(\"/Users/l/Development/DP_GP_cluster/test/test.txt\", sep='\\t', header=0)\n",
    "dfXeno = pd.read_csv(\n",
    "    \"/Users/l/Development/DP_GP_cluster/test/xen_cluster_no.txt\", sep='\\t', header=0)"
   ]
  },
  {
   "cell_type": "code",
   "execution_count": 24,
   "metadata": {},
   "outputs": [],
   "source": [
    "dfXenoLog = dfXeno.loc[:, dfXeno.columns !=\n",
    "                       'gene'].apply(np.log10)\n",
    "dfXenoNew = dfXeno.loc[:, ['gene']].join(dfXenoLog).replace(np.NINF, 0)\n",
    "dfXenoNew\n",
    "dfXenoNew.to_csv(\n",
    "    \"/Users/l/Development/DP_GP_cluster/test/xen_cluster_no_log_nans.txt\", sep='\\t', index=False)\n"
   ]
  },
  {
   "cell_type": "code",
   "execution_count": 16,
   "metadata": {},
   "outputs": [
    {
     "data": {
      "text/plain": [
       "0          1.618176\n",
       "1          0.085167\n",
       "2         75.074851\n",
       "3        188.687842\n",
       "4          0.766504\n",
       "            ...    \n",
       "32300      0.000000\n",
       "32301      2.044012\n",
       "32302     85.039409\n",
       "32303      4.854528\n",
       "32304     46.501269\n",
       "Name: Xt00, Length: 32305, dtype: float64"
      ]
     },
     "execution_count": 16,
     "metadata": {},
     "output_type": "execute_result"
    }
   ],
   "source": [
    "dfXeno['Xt00']\n"
   ]
  },
  {
   "cell_type": "code",
   "execution_count": 20,
   "metadata": {},
   "outputs": [
    {
     "data": {
      "text/plain": [
       "0        0.209026\n",
       "1       -1.069728\n",
       "2        1.875494\n",
       "3        2.275744\n",
       "4       -0.115485\n",
       "           ...   \n",
       "32300    0.000000\n",
       "32301    0.310483\n",
       "32302    1.929620\n",
       "32303    0.686147\n",
       "32304    1.667465\n",
       "Name: Xt00, Length: 32305, dtype: float64"
      ]
     },
     "execution_count": 20,
     "metadata": {},
     "output_type": "execute_result"
    }
   ],
   "source": [
    "dfXenoNew['Xt00']"
   ]
  },
  {
   "cell_type": "code",
   "execution_count": 22,
   "metadata": {},
   "outputs": [
    {
     "data": {
      "text/plain": [
       "-1.58345285634"
      ]
     },
     "execution_count": 22,
     "metadata": {},
     "output_type": "execute_result"
    }
   ],
   "source": [
    "dfTest['2'].min()"
   ]
  }
 ],
 "metadata": {
  "kernelspec": {
   "display_name": "dp-gp-cluster-RDPvgY0t-py3.11",
   "language": "python",
   "name": "python3"
  },
  "language_info": {
   "codemirror_mode": {
    "name": "ipython",
    "version": 3
   },
   "file_extension": ".py",
   "mimetype": "text/x-python",
   "name": "python",
   "nbconvert_exporter": "python",
   "pygments_lexer": "ipython3",
   "version": "3.11.2"
  },
  "orig_nbformat": 4,
  "vscode": {
   "interpreter": {
    "hash": "0ad510f0d8a8ed677245431bd1aa2667f06dc2c4911e9ab426db45fe0a8acfb7"
   }
  }
 },
 "nbformat": 4,
 "nbformat_minor": 2
}
